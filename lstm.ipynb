{
 "cells": [
  {
   "cell_type": "code",
   "execution_count": null,
   "metadata": {},
   "outputs": [],
   "source": [
    "import xarray as xr\n",
    "import pandas as pd\n",
    "import numpy as np\n",
    "\n",
    "# Load the processed NetCDF dataset with NDCI\n",
    "dataset = xr.open_dataset(\"/mnt/data/processed_data.nc\")\n",
    "\n",
    "# Extract the NDCI data (replace 'NDCI' with the exact variable name if different)\n",
    "ndci_data = dataset['NDCI']\n"
   ]
  },
  {
   "cell_type": "code",
   "execution_count": null,
   "metadata": {},
   "outputs": [],
   "source": [
    "# Convert NDCI data to a DataFrame\n",
    "ndci_df = ndci_data.to_dataframe(name=\"ndci\").reset_index()\n",
    "\n",
    "# Filter for a specific grid cell by latitude and longitude\n",
    "latitude, longitude = 43.0, -87.5  # specify the coordinates you need\n",
    "grid_data = ndci_df[(ndci_df['latitude'] == latitude) & (ndci_df['longitude'] == longitude)]\n",
    "\n",
    "# Extract the NDCI values as a time series\n",
    "ndci_series = grid_data['ndci'].values\n"
   ]
  },
  {
   "cell_type": "code",
   "execution_count": null,
   "metadata": {},
   "outputs": [],
   "source": [
    "# Split data: first 700 for training, last 300 for testing\n",
    "train_data, test_data = ndci_series[:700], ndci_series[700:]\n",
    "\n",
    "# Normalize the data for training\n",
    "mean, std = train_data.mean(), train_data.std()\n",
    "train_data_normalized = (train_data - mean) / std\n",
    "test_data_normalized = (test_data - mean) / std\n"
   ]
  },
  {
   "cell_type": "code",
   "execution_count": null,
   "metadata": {},
   "outputs": [],
   "source": [
    "# Define a function to prepare the time series data for LSTM\n",
    "def create_dataset(data, time_steps=1):\n",
    "    X, y = [], []\n",
    "    for i in range(len(data) - time_steps):\n",
    "        X.append(data[i:i + time_steps])\n",
    "        y.append(data[i + time_steps])\n",
    "    return np.array(X), np.array(y)\n",
    "\n",
    "# Set time steps (e.g., using last 10 values to predict the next)\n",
    "time_steps = 10\n",
    "X_train, y_train = create_dataset(train_data_normalized, time_steps)\n",
    "X_test, y_test = create_dataset(test_data_normalized, time_steps)\n",
    "\n",
    "# Reshape the input to be [samples, time steps, features]\n",
    "X_train = np.reshape(X_train, (X_train.shape[0], X_train.shape[1], 1))\n",
    "X_test = np.reshape(X_test, (X_test.shape[0], X_test.shape[1], 1))\n"
   ]
  },
  {
   "cell_type": "code",
   "execution_count": null,
   "metadata": {},
   "outputs": [],
   "source": [
    "from tensorflow.keras.models import Sequential\n",
    "from tensorflow.keras.layers import LSTM, Dense\n",
    "\n",
    "# Define the LSTM model\n",
    "model = Sequential([\n",
    "    LSTM(50, input_shape=(time_steps, 1), return_sequences=True),\n",
    "    LSTM(50),\n",
    "    Dense(1)\n",
    "])\n",
    "\n",
    "model.compile(optimizer='adam', loss='mean_squared_error')\n",
    "\n",
    "# Train the model\n",
    "model.fit(X_train, y_train, epochs=50, batch_size=32, validation_data=(X_test, y_test), verbose=1)\n"
   ]
  },
  {
   "cell_type": "code",
   "execution_count": null,
   "metadata": {},
   "outputs": [],
   "source": [
    "from sklearn.metrics import mean_squared_error\n",
    "\n",
    "# Predict on the test set\n",
    "predicted_normalized = model.predict(X_test)\n",
    "predicted = predicted_normalized * std + mean  # De-normalize predictions\n",
    "actual = test_data[time_steps:]  # Actual values for comparison\n",
    "\n",
    "# Calculate Root Mean Squared Error (RMSE)\n",
    "rmse = np.sqrt(mean_squared_error(actual, predicted))\n",
    "print(f\"RMSE: {rmse}\")\n"
   ]
  },
  {
   "cell_type": "code",
   "execution_count": null,
   "metadata": {},
   "outputs": [],
   "source": [
    "import matplotlib.pyplot as plt\n",
    "\n",
    "# Plot the actual vs. predicted values\n",
    "plt.figure(figsize=(10, 6))\n",
    "plt.scatter(range(len(actual)), actual, color='blue', label='Actual')\n",
    "plt.scatter(range(len(predicted)), predicted, color='red', label='Predicted')\n",
    "plt.title(f'NDCI Prediction for Grid Cell ({latitude}, {longitude})')\n",
    "plt.xlabel('Time Step')\n",
    "plt.ylabel('NDCI Value')\n",
    "plt.legend()\n",
    "plt.show()\n"
   ]
  }
 ],
 "metadata": {
  "kernelspec": {
   "display_name": "Python 3",
   "language": "python",
   "name": "python3"
  },
  "language_info": {
   "name": "python",
   "version": "3.10.7"
  }
 },
 "nbformat": 4,
 "nbformat_minor": 2
}
